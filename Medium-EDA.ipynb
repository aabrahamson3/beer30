{
 "cells": [
  {
   "cell_type": "code",
   "execution_count": 1,
   "metadata": {},
   "outputs": [],
   "source": [
    "# Import EDA packages and load data\n",
    "import pandas as pd\n",
    "import numpy as np\n",
    "import seaborn as sns\n",
    "import matplotlib as plt\n",
    "beers = pd.read_csv('beers-breweries-and-beer-reviews/beers.csv')\n",
    "breweries = pd.read_csv('beers-breweries-and-beer-reviews/breweries.csv')\n",
    "reviews = pd.read_csv('beers-breweries-and-beer-reviews/reviews.csv')"
   ]
  },
  {
   "cell_type": "code",
   "execution_count": 6,
   "metadata": {},
   "outputs": [
    {
     "data": {
      "text/plain": [
       "(9073128, 10)"
      ]
     },
     "execution_count": 6,
     "metadata": {},
     "output_type": "execute_result"
    }
   ],
   "source": [
    "# Let's look at the reviews!\n",
    "reviews.shape"
   ]
  },
  {
   "cell_type": "code",
   "execution_count": 43,
   "metadata": {},
   "outputs": [
    {
     "data": {
      "text/html": [
       "<div>\n",
       "<style scoped>\n",
       "    .dataframe tbody tr th:only-of-type {\n",
       "        vertical-align: middle;\n",
       "    }\n",
       "\n",
       "    .dataframe tbody tr th {\n",
       "        vertical-align: top;\n",
       "    }\n",
       "\n",
       "    .dataframe thead th {\n",
       "        text-align: right;\n",
       "    }\n",
       "</style>\n",
       "<table border=\"1\" class=\"dataframe\">\n",
       "  <thead>\n",
       "    <tr style=\"text-align: right;\">\n",
       "      <th></th>\n",
       "      <th>beer_id</th>\n",
       "      <th>username</th>\n",
       "      <th>date</th>\n",
       "      <th>text</th>\n",
       "      <th>look</th>\n",
       "      <th>smell</th>\n",
       "      <th>taste</th>\n",
       "      <th>feel</th>\n",
       "      <th>overall</th>\n",
       "      <th>score</th>\n",
       "    </tr>\n",
       "  </thead>\n",
       "  <tbody>\n",
       "    <tr>\n",
       "      <th>892357</th>\n",
       "      <td>63</td>\n",
       "      <td>mothman</td>\n",
       "      <td>2008-09-20</td>\n",
       "      <td>Poured from a brown bottle with no freshnes...</td>\n",
       "      <td>3.5</td>\n",
       "      <td>3.5</td>\n",
       "      <td>3.50</td>\n",
       "      <td>4.0</td>\n",
       "      <td>4.0</td>\n",
       "      <td>3.65</td>\n",
       "    </tr>\n",
       "    <tr>\n",
       "      <th>5212578</th>\n",
       "      <td>153887</td>\n",
       "      <td>basaywhat</td>\n",
       "      <td>2018-04-30</td>\n",
       "      <td>16 oz can. Pours a deep amber color with me...</td>\n",
       "      <td>4.0</td>\n",
       "      <td>4.0</td>\n",
       "      <td>4.25</td>\n",
       "      <td>4.0</td>\n",
       "      <td>4.0</td>\n",
       "      <td>4.10</td>\n",
       "    </tr>\n",
       "    <tr>\n",
       "      <th>8474345</th>\n",
       "      <td>144074</td>\n",
       "      <td>waddellc2</td>\n",
       "      <td>2015-01-22</td>\n",
       "      <td></td>\n",
       "      <td>3.5</td>\n",
       "      <td>3.5</td>\n",
       "      <td>3.50</td>\n",
       "      <td>3.5</td>\n",
       "      <td>3.5</td>\n",
       "      <td>3.50</td>\n",
       "    </tr>\n",
       "    <tr>\n",
       "      <th>4760453</th>\n",
       "      <td>68425</td>\n",
       "      <td>EROCK83</td>\n",
       "      <td>2012-04-21</td>\n",
       "      <td></td>\n",
       "      <td>NaN</td>\n",
       "      <td>NaN</td>\n",
       "      <td>NaN</td>\n",
       "      <td>NaN</td>\n",
       "      <td>NaN</td>\n",
       "      <td>4.75</td>\n",
       "    </tr>\n",
       "    <tr>\n",
       "      <th>1563008</th>\n",
       "      <td>35732</td>\n",
       "      <td>mikestan06</td>\n",
       "      <td>2011-06-29</td>\n",
       "      <td>Poured from a 12 oz. bottle to my tulip sty...</td>\n",
       "      <td>4.0</td>\n",
       "      <td>3.5</td>\n",
       "      <td>4.50</td>\n",
       "      <td>4.0</td>\n",
       "      <td>4.5</td>\n",
       "      <td>4.18</td>\n",
       "    </tr>\n",
       "  </tbody>\n",
       "</table>\n",
       "</div>"
      ],
      "text/plain": [
       "         beer_id    username       date  \\\n",
       "892357        63     mothman 2008-09-20   \n",
       "5212578   153887   basaywhat 2018-04-30   \n",
       "8474345   144074   waddellc2 2015-01-22   \n",
       "4760453    68425     EROCK83 2012-04-21   \n",
       "1563008    35732  mikestan06 2011-06-29   \n",
       "\n",
       "                                                      text  look  smell  \\\n",
       "892357      Poured from a brown bottle with no freshnes...   3.5    3.5   \n",
       "5212578     16 oz can. Pours a deep amber color with me...   4.0    4.0   \n",
       "8474345                                                      3.5    3.5   \n",
       "4760453                                                      NaN    NaN   \n",
       "1563008     Poured from a 12 oz. bottle to my tulip sty...   4.0    3.5   \n",
       "\n",
       "         taste  feel  overall  score  \n",
       "892357    3.50   4.0      4.0   3.65  \n",
       "5212578   4.25   4.0      4.0   4.10  \n",
       "8474345   3.50   3.5      3.5   3.50  \n",
       "4760453    NaN   NaN      NaN   4.75  \n",
       "1563008   4.50   4.0      4.5   4.18  "
      ]
     },
     "execution_count": 43,
     "metadata": {},
     "output_type": "execute_result"
    }
   ],
   "source": [
    "# It is interesting that there are reviews that have a final score, but then look/smell/etc\n",
    "# are NaN. The 'score' feature is derived from the more descriptive features, so it may\n",
    "# have been an issue with the data collection. I will later drop these entries, as none\n",
    "# of them have a text review, and the model will end up utilizing the text reviews exclusively\n",
    "reviews.sample(5)"
   ]
  },
  {
   "cell_type": "code",
   "execution_count": 16,
   "metadata": {},
   "outputs": [
    {
     "data": {
      "text/plain": [
       "Sammy                  13798\n",
       "kylehay2004            12221\n",
       "acurtis                12016\n",
       "StonedTrippin          11859\n",
       "jaydoc                 11800\n",
       "                       ...  \n",
       "QuezXLV                    1\n",
       "ALW42                      1\n",
       "Hopalong                   1\n",
       "k0mp0                      1\n",
       "brytevisuals_studio        1\n",
       "Name: username, Length: 164934, dtype: int64"
      ]
     },
     "execution_count": 16,
     "metadata": {},
     "output_type": "execute_result"
    }
   ],
   "source": [
    "reviews.username.value_counts()"
   ]
  },
  {
   "cell_type": "code",
   "execution_count": 44,
   "metadata": {},
   "outputs": [
    {
     "data": {
      "text/plain": [
       "Text(0.5, 0, 'Number of reviews by user')"
      ]
     },
     "execution_count": 44,
     "metadata": {},
     "output_type": "execute_result"
    },
    {
     "data": {
      "image/png": "[encoded data removed]",
      "text/plain": [
       "<Figure size 432x288 with 1 Axes>"
      ]
     },
     "metadata": {
      "needs_background": "light"
     },
     "output_type": "display_data"
    }
   ],
   "source": [
    "# Distribution plot of users and the number of reviews they have made. Most users have made\n",
    "# few reviews, and a small portion of them have a large contribution\n",
    "ax = sns.distplot(reviews.username.value_counts(), hist=False)\n",
    "ax.set_xlabel('Number of reviews by user')"
   ]
  },
  {
   "cell_type": "code",
   "execution_count": 8,
   "metadata": {},
   "outputs": [
    {
     "data": {
      "text/plain": [
       "Stum-pub           1000\n",
       "jwinship83         1000\n",
       "IvoryFoxhole       1000\n",
       "Greasy             1000\n",
       "Aaron_Kerkvliet     998\n",
       "                   ... \n",
       "th3hooligan           1\n",
       "Seymore_Johnson       1\n",
       "Apolonaire            1\n",
       "MrsL2011              1\n",
       "R2luke2               1\n",
       "Name: username, Length: 163114, dtype: int64"
      ]
     },
     "execution_count": 8,
     "metadata": {},
     "output_type": "execute_result"
    }
   ],
   "source": [
    "# Only around ~1800 users have over 1000 reviews\n",
    "reviews.username.value_counts()[1820:]"
   ]
  },
  {
   "cell_type": "code",
   "execution_count": 48,
   "metadata": {},
   "outputs": [
    {
     "data": {
      "text/plain": [
       "Text(0.5, 0, 'Number of reviews per beer')"
      ]
     },
     "execution_count": 48,
     "metadata": {},
     "output_type": "execute_result"
    },
    {
     "data": {
      "image/png": "[encoded data removed]",
      "text/plain": [
       "<Figure size 432x288 with 1 Axes>"
      ]
     },
     "metadata": {
      "needs_background": "light"
     },
     "output_type": "display_data"
    }
   ],
   "source": [
    "# Now looking at what beers are reviewed, there is a similar trend. \n",
    "# Most beers have a small number of reviews, a small number have A LOT\n",
    "ax = sns.distplot(reviews.beer_id.value_counts(), hist=False)\n",
    "ax.set_xlabel('Number of reviews per beer')"
   ]
  },
  {
   "cell_type": "code",
   "execution_count": 57,
   "metadata": {},
   "outputs": [
    {
     "data": {
      "text/plain": [
       "118441    2\n",
       "63692     2\n",
       "195668    2\n",
       "121064    2\n",
       "358859    2\n",
       "         ..\n",
       "203777    1\n",
       "126326    1\n",
       "109950    1\n",
       "282050    1\n",
       "8188      1\n",
       "Name: beer_id, Length: 109542, dtype: int64"
      ]
     },
     "execution_count": 57,
     "metadata": {},
     "output_type": "execute_result"
    }
   ],
   "source": [
    "reviews.beer_id.value_counts()[200000:]"
   ]
  },
  {
   "cell_type": "code",
   "execution_count": 14,
   "metadata": {},
   "outputs": [
    {
     "data": {
      "text/plain": [
       "<matplotlib.axes._subplots.AxesSubplot at 0x1a19e72978>"
      ]
     },
     "execution_count": 14,
     "metadata": {},
     "output_type": "execute_result"
    },
    {
     "data": {
      "image/png": "[encoded data removed]",
      "text/plain": [
       "<Figure size 432x288 with 1 Axes>"
      ]
     },
     "metadata": {
      "needs_background": "light"
     },
     "output_type": "display_data"
    }
   ],
   "source": [
    "# Below is a distribution of the aveage rating for each beer. Normal-ish! \n",
    "sns.distplot(reviews.groupby(['beer_id']).score.mean())"
   ]
  },
  {
   "cell_type": "code",
   "execution_count": 28,
   "metadata": {},
   "outputs": [
    {
     "data": {
      "text/plain": [
       "3.8898151232959632"
      ]
     },
     "execution_count": 28,
     "metadata": {},
     "output_type": "execute_result"
    }
   ],
   "source": [
    "reviews.score.mean()"
   ]
  },
  {
   "cell_type": "code",
   "execution_count": 22,
   "metadata": {},
   "outputs": [],
   "source": [
    "# What is the distribution of reviews over the total timespan of 1998-2017?\n",
    "reviews['date']= pd.to_datetime(reviews['date']) \n",
    "dt_reviews = reviews.set_index('date')\n",
    "early_reviews = dt_reviews[dt_reviews.index.year < 2010]\n",
    "sns.distplot(early_reviews.groupby(['beer_id']).score.mean())"
   ]
  },
  {
   "cell_type": "code",
   "execution_count": 21,
   "metadata": {},
   "outputs": [
    {
     "data": {
      "text/html": [
       "<div>\n",
       "<style scoped>\n",
       "    .dataframe tbody tr th:only-of-type {\n",
       "        vertical-align: middle;\n",
       "    }\n",
       "\n",
       "    .dataframe tbody tr th {\n",
       "        vertical-align: top;\n",
       "    }\n",
       "\n",
       "    .dataframe thead th {\n",
       "        text-align: right;\n",
       "    }\n",
       "</style>\n",
       "<table border=\"1\" class=\"dataframe\">\n",
       "  <thead>\n",
       "    <tr style=\"text-align: right;\">\n",
       "      <th></th>\n",
       "      <th>beer_id</th>\n",
       "      <th>username</th>\n",
       "      <th>text</th>\n",
       "      <th>look</th>\n",
       "      <th>smell</th>\n",
       "      <th>taste</th>\n",
       "      <th>feel</th>\n",
       "      <th>overall</th>\n",
       "      <th>score</th>\n",
       "    </tr>\n",
       "    <tr>\n",
       "      <th>date</th>\n",
       "      <th></th>\n",
       "      <th></th>\n",
       "      <th></th>\n",
       "      <th></th>\n",
       "      <th></th>\n",
       "      <th></th>\n",
       "      <th></th>\n",
       "      <th></th>\n",
       "      <th></th>\n",
       "    </tr>\n",
       "  </thead>\n",
       "  <tbody>\n",
       "    <tr>\n",
       "      <th>2009-08-17</th>\n",
       "      <td>58482</td>\n",
       "      <td>Imstillthegman</td>\n",
       "      <td>This one pours a cloudy rusty orange with a...</td>\n",
       "      <td>4.0</td>\n",
       "      <td>3.5</td>\n",
       "      <td>4.0</td>\n",
       "      <td>4.0</td>\n",
       "      <td>4.5</td>\n",
       "      <td>3.98</td>\n",
       "    </tr>\n",
       "    <tr>\n",
       "      <th>2009-08-17</th>\n",
       "      <td>58482</td>\n",
       "      <td>Kadonny</td>\n",
       "      <td>Poured from a bottle into a Duvel tulip gla...</td>\n",
       "      <td>4.0</td>\n",
       "      <td>4.0</td>\n",
       "      <td>4.0</td>\n",
       "      <td>4.0</td>\n",
       "      <td>4.5</td>\n",
       "      <td>4.10</td>\n",
       "    </tr>\n",
       "    <tr>\n",
       "      <th>2009-08-17</th>\n",
       "      <td>58482</td>\n",
       "      <td>Sammy</td>\n",
       "      <td>On-tap at Mr. Goodbar's. Some yeast aroma. ...</td>\n",
       "      <td>3.5</td>\n",
       "      <td>4.0</td>\n",
       "      <td>3.0</td>\n",
       "      <td>3.5</td>\n",
       "      <td>3.5</td>\n",
       "      <td>3.42</td>\n",
       "    </tr>\n",
       "    <tr>\n",
       "      <th>2009-08-17</th>\n",
       "      <td>58482</td>\n",
       "      <td>Lexluthor33</td>\n",
       "      <td>A hazy,golden color with a really nice look...</td>\n",
       "      <td>4.0</td>\n",
       "      <td>3.5</td>\n",
       "      <td>4.0</td>\n",
       "      <td>4.0</td>\n",
       "      <td>4.0</td>\n",
       "      <td>3.88</td>\n",
       "    </tr>\n",
       "    <tr>\n",
       "      <th>2009-08-16</th>\n",
       "      <td>58482</td>\n",
       "      <td>jamie2dope</td>\n",
       "      <td>Here we go again, another brew from Weyerba...</td>\n",
       "      <td>3.5</td>\n",
       "      <td>3.5</td>\n",
       "      <td>4.0</td>\n",
       "      <td>4.0</td>\n",
       "      <td>4.0</td>\n",
       "      <td>3.85</td>\n",
       "    </tr>\n",
       "    <tr>\n",
       "      <th>...</th>\n",
       "      <td>...</td>\n",
       "      <td>...</td>\n",
       "      <td>...</td>\n",
       "      <td>...</td>\n",
       "      <td>...</td>\n",
       "      <td>...</td>\n",
       "      <td>...</td>\n",
       "      <td>...</td>\n",
       "      <td>...</td>\n",
       "    </tr>\n",
       "    <tr>\n",
       "      <th>2009-08-24</th>\n",
       "      <td>58482</td>\n",
       "      <td>beerthulhu</td>\n",
       "      <td>A: Poured a pumpkin pie orange with gold hi...</td>\n",
       "      <td>4.0</td>\n",
       "      <td>3.0</td>\n",
       "      <td>4.0</td>\n",
       "      <td>3.5</td>\n",
       "      <td>3.5</td>\n",
       "      <td>3.61</td>\n",
       "    </tr>\n",
       "    <tr>\n",
       "      <th>2009-08-24</th>\n",
       "      <td>58482</td>\n",
       "      <td>Billolick</td>\n",
       "      <td>On tap pours semi cloudy yellowy amber, it ...</td>\n",
       "      <td>4.0</td>\n",
       "      <td>3.5</td>\n",
       "      <td>4.0</td>\n",
       "      <td>4.0</td>\n",
       "      <td>3.5</td>\n",
       "      <td>3.78</td>\n",
       "    </tr>\n",
       "    <tr>\n",
       "      <th>2009-08-22</th>\n",
       "      <td>58482</td>\n",
       "      <td>smcolw</td>\n",
       "      <td>Large chalky white head. Leaves lots of spo...</td>\n",
       "      <td>4.0</td>\n",
       "      <td>3.5</td>\n",
       "      <td>3.5</td>\n",
       "      <td>4.0</td>\n",
       "      <td>3.5</td>\n",
       "      <td>3.58</td>\n",
       "    </tr>\n",
       "    <tr>\n",
       "      <th>2009-08-21</th>\n",
       "      <td>58482</td>\n",
       "      <td>firkinhophead</td>\n",
       "      <td>pours a hazy, almost cloudy, autumn gold. A...</td>\n",
       "      <td>3.5</td>\n",
       "      <td>4.0</td>\n",
       "      <td>4.0</td>\n",
       "      <td>3.5</td>\n",
       "      <td>4.0</td>\n",
       "      <td>3.92</td>\n",
       "    </tr>\n",
       "    <tr>\n",
       "      <th>2009-08-21</th>\n",
       "      <td>58482</td>\n",
       "      <td>CHADMC3</td>\n",
       "      <td>Pours a hazy golden/orange to copper with a...</td>\n",
       "      <td>4.0</td>\n",
       "      <td>4.0</td>\n",
       "      <td>3.5</td>\n",
       "      <td>4.0</td>\n",
       "      <td>4.0</td>\n",
       "      <td>3.80</td>\n",
       "    </tr>\n",
       "  </tbody>\n",
       "</table>\n",
       "<p>887809 rows × 9 columns</p>\n",
       "</div>"
      ],
      "text/plain": [
       "            beer_id        username  \\\n",
       "date                                  \n",
       "2009-08-17    58482  Imstillthegman   \n",
       "2009-08-17    58482         Kadonny   \n",
       "2009-08-17    58482           Sammy   \n",
       "2009-08-17    58482     Lexluthor33   \n",
       "2009-08-16    58482      jamie2dope   \n",
       "...             ...             ...   \n",
       "2009-08-24    58482      beerthulhu   \n",
       "2009-08-24    58482       Billolick   \n",
       "2009-08-22    58482          smcolw   \n",
       "2009-08-21    58482   firkinhophead   \n",
       "2009-08-21    58482         CHADMC3   \n",
       "\n",
       "                                                         text  look  smell  \\\n",
       "date                                                                         \n",
       "2009-08-17     This one pours a cloudy rusty orange with a...   4.0    3.5   \n",
       "2009-08-17     Poured from a bottle into a Duvel tulip gla...   4.0    4.0   \n",
       "2009-08-17     On-tap at Mr. Goodbar's. Some yeast aroma. ...   3.5    4.0   \n",
       "2009-08-17     A hazy,golden color with a really nice look...   4.0    3.5   \n",
       "2009-08-16     Here we go again, another brew from Weyerba...   3.5    3.5   \n",
       "...                                                       ...   ...    ...   \n",
       "2009-08-24     A: Poured a pumpkin pie orange with gold hi...   4.0    3.0   \n",
       "2009-08-24     On tap pours semi cloudy yellowy amber, it ...   4.0    3.5   \n",
       "2009-08-22     Large chalky white head. Leaves lots of spo...   4.0    3.5   \n",
       "2009-08-21     pours a hazy, almost cloudy, autumn gold. A...   3.5    4.0   \n",
       "2009-08-21     Pours a hazy golden/orange to copper with a...   4.0    4.0   \n",
       "\n",
       "            taste  feel  overall  score  \n",
       "date                                     \n",
       "2009-08-17    4.0   4.0      4.5   3.98  \n",
       "2009-08-17    4.0   4.0      4.5   4.10  \n",
       "2009-08-17    3.0   3.5      3.5   3.42  \n",
       "2009-08-17    4.0   4.0      4.0   3.88  \n",
       "2009-08-16    4.0   4.0      4.0   3.85  \n",
       "...           ...   ...      ...    ...  \n",
       "2009-08-24    4.0   3.5      3.5   3.61  \n",
       "2009-08-24    4.0   4.0      3.5   3.78  \n",
       "2009-08-22    3.5   4.0      3.5   3.58  \n",
       "2009-08-21    4.0   3.5      4.0   3.92  \n",
       "2009-08-21    3.5   4.0      4.0   3.80  \n",
       "\n",
       "[887809 rows x 9 columns]"
      ]
     },
     "execution_count": 21,
     "metadata": {},
     "output_type": "execute_result"
    }
   ],
   "source": [
    "# Less than 900k are from before 2010\n",
    "dt_reviews[dt_reviews.index.year < 2010]"
   ]
  },
  {
   "cell_type": "code",
   "execution_count": 25,
   "metadata": {},
   "outputs": [],
   "source": [
    "early_reviews = dt_reviews[dt_reviews.index.year < 2010]"
   ]
  },
  {
   "cell_type": "code",
   "execution_count": 26,
   "metadata": {},
   "outputs": [
    {
     "data": {
      "text/plain": [
       "<matplotlib.axes._subplots.AxesSubplot at 0x1a1b486cf8>"
      ]
     },
     "execution_count": 26,
     "metadata": {},
     "output_type": "execute_result"
    },
    {
     "data": {
      "image/png": "[encoded data removed]",
      "text/plain": [
       "<Figure size 432x288 with 1 Axes>"
      ]
     },
     "metadata": {
      "needs_background": "light"
     },
     "output_type": "display_data"
    }
   ],
   "source": [
    "sns.distplot(early_reviews.groupby(['beer_id']).score.mean())"
   ]
  },
  {
   "cell_type": "code",
   "execution_count": 27,
   "metadata": {},
   "outputs": [
    {
     "data": {
      "text/plain": [
       "3.763992311409322"
      ]
     },
     "execution_count": 27,
     "metadata": {},
     "output_type": "execute_result"
    }
   ],
   "source": [
    "# the mean reduced by ~0.1 overall score. So not that much different\n",
    "early_reviews.score.mean()"
   ]
  },
  {
   "cell_type": "code",
   "execution_count": 35,
   "metadata": {},
   "outputs": [],
   "source": [
    "# Create a dataframe with average score for each beer, and the number of reviews it has\n",
    "ratings = pd.DataFrame(reviews.groupby('beer_id')['score'].mean())\n",
    "ratings = ratings.rename(columns={'score':'avg_score'})\n",
    "ratings['no_of_ratings'] = reviews.groupby('beer_id')['score'].count()\n",
    "reviews_w_avg = reviews.merge(ratings, how='inner', on='beer_id')"
   ]
  },
  {
   "cell_type": "code",
   "execution_count": 37,
   "metadata": {},
   "outputs": [
    {
     "data": {
      "text/plain": [
       "<seaborn.axisgrid.JointGrid at 0x1a18e7fcf8>"
      ]
     },
     "execution_count": 37,
     "metadata": {},
     "output_type": "execute_result"
    },
    {
     "data": {
      "image/png": "[encoded data removed]",
      "text/plain": [
       "<Figure size 432x432 with 3 Axes>"
      ]
     },
     "metadata": {
      "needs_background": "light"
     },
     "output_type": "display_data"
    }
   ],
   "source": [
    "sns.jointplot(x='avg_score', y='no_of_ratings', data = reviews_w_avg)"
   ]
  },
  {
   "cell_type": "code",
   "execution_count": 40,
   "metadata": {},
   "outputs": [
    {
     "data": {
      "text/plain": [
       "<seaborn.axisgrid.JointGrid at 0x1a1ce76208>"
      ]
     },
     "execution_count": 40,
     "metadata": {},
     "output_type": "execute_result"
    },
    {
     "data": {
      "image/png": "[encoded data removed]",
      "text/plain": [
       "<Figure size 432x432 with 3 Axes>"
      ]
     },
     "metadata": {
      "needs_background": "light"
     },
     "output_type": "display_data"
    }
   ],
   "source": [
    "# Create a similar DF as above, but for each user. Number of beers they have reviews, and \n",
    "# their average score. Then plot the relationship\n",
    "reviewers = pd.DataFrame(reviews.groupby('username')['beer_id'].count())\n",
    "reviewers = reviewers.rename(columns={'beer_id':'tot_usr_rvw'})\n",
    "reviewers['avg_usr_score'] = reviews.groupby('username')['score'].mean()\n",
    "sns.jointplot(x='avg_usr_score', y='tot_usr_rvw', data = reviewers)"
   ]
  },
  {
   "cell_type": "code",
   "execution_count": null,
   "metadata": {},
   "outputs": [],
   "source": []
  }
 ],
 "metadata": {
  "kernelspec": {
   "display_name": "Python 3 (learn-env)",
   "language": "python",
   "name": "learn-env"
  },
  "language_info": {
   "codemirror_mode": {
    "name": "ipython",
    "version": 3
   },
   "file_extension": ".py",
   "mimetype": "text/x-python",
   "name": "python",
   "nbconvert_exporter": "python",
   "pygments_lexer": "ipython3",
   "version": "3.6.6"
  }
 },
 "nbformat": 4,
 "nbformat_minor": 2
}
