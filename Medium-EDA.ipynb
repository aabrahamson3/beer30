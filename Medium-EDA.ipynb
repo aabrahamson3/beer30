{
 "cells": [
  {
   "cell_type": "code",
   "execution_count": 1,
   "metadata": {},
   "outputs": [],
   "source": [
    "# Import EDA packages and load data\n",
    "import pandas as pd\n",
    "import numpy as np\n",
    "import seaborn as sns\n",
    "import matplotlib as plt\n",
    "beers = pd.read_csv('beers-breweries-and-beer-reviews/beers.csv')\n",
    "breweries = pd.read_csv('beers-breweries-and-beer-reviews/breweries.csv')\n",
    "reviews = pd.read_csv('beers-breweries-and-beer-reviews/reviews.csv')"
   ]
  },
  {
   "cell_type": "code",
   "execution_count": 6,
   "metadata": {},
   "outputs": [
    {
     "data": {
      "text/plain": [
       "(9073128, 10)"
      ]
     },
     "execution_count": 6,
     "metadata": {},
     "output_type": "execute_result"
    }
   ],
   "source": [
    "# Let's look at the reviews!\n",
    "reviews.shape"
   ]
  },
  {
   "cell_type": "code",
   "execution_count": 4,
   "metadata": {},
   "outputs": [
    {
     "data": {
      "text/html": [
       "<div>\n",
       "<style scoped>\n",
       "    .dataframe tbody tr th:only-of-type {\n",
       "        vertical-align: middle;\n",
       "    }\n",
       "\n",
       "    .dataframe tbody tr th {\n",
       "        vertical-align: top;\n",
       "    }\n",
       "\n",
       "    .dataframe thead th {\n",
       "        text-align: right;\n",
       "    }\n",
       "</style>\n",
       "<table border=\"1\" class=\"dataframe\">\n",
       "  <thead>\n",
       "    <tr style=\"text-align: right;\">\n",
       "      <th></th>\n",
       "      <th>beer_id</th>\n",
       "      <th>username</th>\n",
       "      <th>date</th>\n",
       "      <th>text</th>\n",
       "      <th>look</th>\n",
       "      <th>smell</th>\n",
       "      <th>taste</th>\n",
       "      <th>feel</th>\n",
       "      <th>overall</th>\n",
       "      <th>score</th>\n",
       "    </tr>\n",
       "  </thead>\n",
       "  <tbody>\n",
       "    <tr>\n",
       "      <th>8719733</th>\n",
       "      <td>71427</td>\n",
       "      <td>walkinginplace</td>\n",
       "      <td>2015-08-10</td>\n",
       "      <td></td>\n",
       "      <td>3.25</td>\n",
       "      <td>3.25</td>\n",
       "      <td>3.5</td>\n",
       "      <td>3.25</td>\n",
       "      <td>3.25</td>\n",
       "      <td>3.35</td>\n",
       "    </tr>\n",
       "    <tr>\n",
       "      <th>5362472</th>\n",
       "      <td>7605</td>\n",
       "      <td>RuckusDu</td>\n",
       "      <td>2012-08-26</td>\n",
       "      <td>A - Just a half finger of light beige head ...</td>\n",
       "      <td>3.50</td>\n",
       "      <td>4.50</td>\n",
       "      <td>2.5</td>\n",
       "      <td>3.50</td>\n",
       "      <td>3.00</td>\n",
       "      <td>3.24</td>\n",
       "    </tr>\n",
       "    <tr>\n",
       "      <th>4024386</th>\n",
       "      <td>138007</td>\n",
       "      <td>Patbrown2</td>\n",
       "      <td>2014-12-30</td>\n",
       "      <td></td>\n",
       "      <td>3.25</td>\n",
       "      <td>3.25</td>\n",
       "      <td>3.0</td>\n",
       "      <td>3.00</td>\n",
       "      <td>3.25</td>\n",
       "      <td>3.13</td>\n",
       "    </tr>\n",
       "    <tr>\n",
       "      <th>8733730</th>\n",
       "      <td>79705</td>\n",
       "      <td>jpa01</td>\n",
       "      <td>2017-02-18</td>\n",
       "      <td>Appearance: It's a dark black, creamy, dece...</td>\n",
       "      <td>4.00</td>\n",
       "      <td>3.50</td>\n",
       "      <td>4.5</td>\n",
       "      <td>4.25</td>\n",
       "      <td>4.25</td>\n",
       "      <td>4.16</td>\n",
       "    </tr>\n",
       "    <tr>\n",
       "      <th>9010212</th>\n",
       "      <td>90903</td>\n",
       "      <td>ricknelson</td>\n",
       "      <td>2014-06-03</td>\n",
       "      <td>This is a God awful beer. I brought this to...</td>\n",
       "      <td>2.50</td>\n",
       "      <td>2.00</td>\n",
       "      <td>1.5</td>\n",
       "      <td>2.00</td>\n",
       "      <td>2.00</td>\n",
       "      <td>1.83</td>\n",
       "    </tr>\n",
       "    <tr>\n",
       "      <th>4874393</th>\n",
       "      <td>13637</td>\n",
       "      <td>RyanDonnelly</td>\n",
       "      <td>2014-09-28</td>\n",
       "      <td></td>\n",
       "      <td>NaN</td>\n",
       "      <td>NaN</td>\n",
       "      <td>NaN</td>\n",
       "      <td>NaN</td>\n",
       "      <td>NaN</td>\n",
       "      <td>4.04</td>\n",
       "    </tr>\n",
       "    <tr>\n",
       "      <th>3929399</th>\n",
       "      <td>175675</td>\n",
       "      <td>Abbott</td>\n",
       "      <td>2016-04-10</td>\n",
       "      <td></td>\n",
       "      <td>4.00</td>\n",
       "      <td>3.50</td>\n",
       "      <td>3.0</td>\n",
       "      <td>3.50</td>\n",
       "      <td>3.25</td>\n",
       "      <td>3.28</td>\n",
       "    </tr>\n",
       "    <tr>\n",
       "      <th>7053739</th>\n",
       "      <td>300514</td>\n",
       "      <td>petewheeler</td>\n",
       "      <td>2018-08-08</td>\n",
       "      <td></td>\n",
       "      <td>4.00</td>\n",
       "      <td>4.00</td>\n",
       "      <td>4.0</td>\n",
       "      <td>4.00</td>\n",
       "      <td>4.00</td>\n",
       "      <td>4.00</td>\n",
       "    </tr>\n",
       "    <tr>\n",
       "      <th>3970113</th>\n",
       "      <td>45325</td>\n",
       "      <td>jroberts8811</td>\n",
       "      <td>2014-09-01</td>\n",
       "      <td></td>\n",
       "      <td>NaN</td>\n",
       "      <td>NaN</td>\n",
       "      <td>NaN</td>\n",
       "      <td>NaN</td>\n",
       "      <td>NaN</td>\n",
       "      <td>3.25</td>\n",
       "    </tr>\n",
       "    <tr>\n",
       "      <th>244138</th>\n",
       "      <td>74325</td>\n",
       "      <td>BogBoyJD</td>\n",
       "      <td>2013-06-24</td>\n",
       "      <td></td>\n",
       "      <td>NaN</td>\n",
       "      <td>NaN</td>\n",
       "      <td>NaN</td>\n",
       "      <td>NaN</td>\n",
       "      <td>NaN</td>\n",
       "      <td>2.25</td>\n",
       "    </tr>\n",
       "  </tbody>\n",
       "</table>\n",
       "</div>"
      ],
      "text/plain": [
       "         beer_id        username        date  \\\n",
       "8719733    71427  walkinginplace  2015-08-10   \n",
       "5362472     7605        RuckusDu  2012-08-26   \n",
       "4024386   138007       Patbrown2  2014-12-30   \n",
       "8733730    79705           jpa01  2017-02-18   \n",
       "9010212    90903      ricknelson  2014-06-03   \n",
       "4874393    13637    RyanDonnelly  2014-09-28   \n",
       "3929399   175675          Abbott  2016-04-10   \n",
       "7053739   300514     petewheeler  2018-08-08   \n",
       "3970113    45325    jroberts8811  2014-09-01   \n",
       "244138     74325        BogBoyJD  2013-06-24   \n",
       "\n",
       "                                                      text  look  smell  \\\n",
       "8719733                                                     3.25   3.25   \n",
       "5362472     A - Just a half finger of light beige head ...  3.50   4.50   \n",
       "4024386                                                     3.25   3.25   \n",
       "8733730     Appearance: It's a dark black, creamy, dece...  4.00   3.50   \n",
       "9010212     This is a God awful beer. I brought this to...  2.50   2.00   \n",
       "4874393                                                      NaN    NaN   \n",
       "3929399                                                     4.00   3.50   \n",
       "7053739                                                     4.00   4.00   \n",
       "3970113                                                      NaN    NaN   \n",
       "244138                                                       NaN    NaN   \n",
       "\n",
       "         taste  feel  overall  score  \n",
       "8719733    3.5  3.25     3.25   3.35  \n",
       "5362472    2.5  3.50     3.00   3.24  \n",
       "4024386    3.0  3.00     3.25   3.13  \n",
       "8733730    4.5  4.25     4.25   4.16  \n",
       "9010212    1.5  2.00     2.00   1.83  \n",
       "4874393    NaN   NaN      NaN   4.04  \n",
       "3929399    3.0  3.50     3.25   3.28  \n",
       "7053739    4.0  4.00     4.00   4.00  \n",
       "3970113    NaN   NaN      NaN   3.25  \n",
       "244138     NaN   NaN      NaN   2.25  "
      ]
     },
     "execution_count": 4,
     "metadata": {},
     "output_type": "execute_result"
    }
   ],
   "source": [
    "# It is interesting that there are reviews that have a final score, but then look/smell/etc\n",
    "# are NaN. The 'score' feature is derived from the more descriptive features, so it may\n",
    "# have been an issue with the data collection. I will later drop these entries, as none\n",
    "# of them have a text review, and the model will end up utilizing the text reviews exclusively\n",
    "reviews.sample(10)"
   ]
  },
  {
   "cell_type": "code",
   "execution_count": 3,
   "metadata": {},
   "outputs": [
    {
     "data": {
      "text/plain": [
       "<matplotlib.axes._subplots.AxesSubplot at 0x1a1876add8>"
      ]
     },
     "execution_count": 3,
     "metadata": {},
     "output_type": "execute_result"
    },
    {
     "data": {
      "image/png": "[encoded data removed]",
      "text/plain": [
       "<Figure size 432x288 with 1 Axes>"
      ]
     },
     "metadata": {
      "needs_background": "light"
     },
     "output_type": "display_data"
    }
   ],
   "source": [
    "# Distribution plot of users and the number of reviews they have made. Most users have made\n",
    "# few reviews, and a small portion of them have a large contribution\n",
    "sns.distplot(reviews.username.value_counts(), hist=False)"
   ]
  },
  {
   "cell_type": "code",
   "execution_count": 8,
   "metadata": {},
   "outputs": [
    {
     "data": {
      "text/plain": [
       "Stum-pub           1000\n",
       "jwinship83         1000\n",
       "IvoryFoxhole       1000\n",
       "Greasy             1000\n",
       "Aaron_Kerkvliet     998\n",
       "                   ... \n",
       "th3hooligan           1\n",
       "Seymore_Johnson       1\n",
       "Apolonaire            1\n",
       "MrsL2011              1\n",
       "R2luke2               1\n",
       "Name: username, Length: 163114, dtype: int64"
      ]
     },
     "execution_count": 8,
     "metadata": {},
     "output_type": "execute_result"
    }
   ],
   "source": [
    "# Only around ~1800 users have over 1000 reviews\n",
    "reviews.username.value_counts()[1820:]"
   ]
  },
  {
   "cell_type": "code",
   "execution_count": 6,
   "metadata": {},
   "outputs": [
    {
     "data": {
      "text/plain": [
       "<matplotlib.axes._subplots.AxesSubplot at 0x1a1926e6a0>"
      ]
     },
     "execution_count": 6,
     "metadata": {},
     "output_type": "execute_result"
    },
    {
     "data": {
      "image/png": "[encoded data removed]",
      "text/plain": [
       "<Figure size 432x288 with 1 Axes>"
      ]
     },
     "metadata": {
      "needs_background": "light"
     },
     "output_type": "display_data"
    }
   ],
   "source": [
    "# Now looking at what beers are reviewed, there is a similar trend\n",
    "sns.distplot(reviews.beer_id.value_counts(), hist=False)"
   ]
  },
  {
   "cell_type": "code",
   "execution_count": 14,
   "metadata": {},
   "outputs": [
    {
     "data": {
      "text/plain": [
       "<matplotlib.axes._subplots.AxesSubplot at 0x1a19e72978>"
      ]
     },
     "execution_count": 14,
     "metadata": {},
     "output_type": "execute_result"
    },
    {
     "data": {
      "image/png": "[encoded data removed]",
      "text/plain": [
       "<Figure size 432x288 with 1 Axes>"
      ]
     },
     "metadata": {
      "needs_background": "light"
     },
     "output_type": "display_data"
    }
   ],
   "source": [
    "# Below is a distribution of the aveage rating for each beer. Normal-ish! \n",
    "sns.distplot(reviews.groupby(['beer_id']).score.mean())"
   ]
  },
  {
   "cell_type": "code",
   "execution_count": 12,
   "metadata": {},
   "outputs": [],
   "source": [
    "reviews['date']= pd.to_datetime(reviews['date']) "
   ]
  },
  {
   "cell_type": "code",
   "execution_count": 19,
   "metadata": {},
   "outputs": [],
   "source": [
    "dt_reviews = reviews.set_index('date')"
   ]
  },
  {
   "cell_type": "code",
   "execution_count": null,
   "metadata": {},
   "outputs": [],
   "source": [
    "dt_reviews[dt_reviews.index.year < 2007].sum()"
   ]
  },
  {
   "cell_type": "code",
   "execution_count": null,
   "metadata": {},
   "outputs": [],
   "source": []
  }
 ],
 "metadata": {
  "kernelspec": {
   "display_name": "Python 3 (learn-env)",
   "language": "python",
   "name": "learn-env"
  },
  "language_info": {
   "codemirror_mode": {
    "name": "ipython",
    "version": 3
   },
   "file_extension": ".py",
   "mimetype": "text/x-python",
   "name": "python",
   "nbconvert_exporter": "python",
   "pygments_lexer": "ipython3",
   "version": "3.6.6"
  }
 },
 "nbformat": 4,
 "nbformat_minor": 2
}
