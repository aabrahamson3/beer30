{
 "cells": [
  {
   "cell_type": "code",
   "execution_count": 1,
   "metadata": {},
   "outputs": [],
   "source": [
    "import pandas as pd\n",
    "import numpy as np\n",
    "from gensim.models.doc2vec import TaggedDocument\n",
    "from gensim.models import Doc2Vec, Phrases\n",
    "from gensim.parsing.preprocessing import STOPWORDS as stop_words\n",
    "from gensim.utils import simple_preprocess\n",
    "from sklearn.feature_extraction import text\n",
    "from nltk.stem.lancaster import LancasterStemmer"
   ]
  },
  {
   "cell_type": "code",
   "execution_count": 2,
   "metadata": {},
   "outputs": [],
   "source": [
    "# this is each review cleaned for Doc2Vec. It is df_with_mins with only 'id' and 'textb'\n",
    "cleaned_reviews_df = pd.read_pickle('cleaned_reviews_df.pkl')"
   ]
  },
  {
   "cell_type": "code",
   "execution_count": 3,
   "metadata": {},
   "outputs": [],
   "source": [
    "# load df with beer/brewery data and create a lookup dictionary\n",
    "df_joined = pd.read_pickle('joined_text_df.pkl')"
   ]
  },
  {
   "cell_type": "code",
   "execution_count": 4,
   "metadata": {},
   "outputs": [
    {
     "name": "stderr",
     "output_type": "stream",
     "text": [
      "//anaconda3/envs/sklearn-env/lib/python3.7/site-packages/ipykernel_launcher.py:2: SettingWithCopyWarning: \n",
      "A value is trying to be set on a copy of a slice from a DataFrame.\n",
      "Try using .loc[row_indexer,col_indexer] = value instead\n",
      "\n",
      "See the caveats in the documentation: http://pandas.pydata.org/pandas-docs/stable/user_guide/indexing.html#returning-a-view-versus-a-copy\n",
      "  \n"
     ]
    }
   ],
   "source": [
    "lookup_df = df_joined[['id', 'brewery_id', 'name', 'city', 'state', 'country', 'brewery_name']]\n",
    "lookup_df['id'] = lookup_df['id'].astype(str)\n",
    "lookup_dict = lookup_df.set_index('id').to_dict(orient='index')"
   ]
  },
  {
   "cell_type": "code",
   "execution_count": 24,
   "metadata": {},
   "outputs": [],
   "source": [
    "letters = list('abcdefghijklmnopqrstuvwxyz')\n",
    "numbers = list('0123456789')\n",
    "words = ['oz', 'ml', 'pour', 'poured', 'bottle', 'can', 'ounce',\\\n",
    "         'bomber', 'botttle', 'stubby', 'ouncer', 'pouring', 'growler', 'snifter',\\\n",
    "         'tulip', 'bottled', 'brewery', 'pint'] # ADD MORE\n",
    "stop_words = stop_words.union(set(letters)).union(set(numbers)).union(set(words))\n",
    "my_stop_words = text.ENGLISH_STOP_WORDS.union(stop_words)\n",
    "\n",
    "def tag_docs(docs):\n",
    "    results = docs.apply(lambda r: TaggedDocument(words=preprocessor(r['text']), tags=[str(r['id'])]), axis=1)\n",
    "    return results.tolist()\n",
    "def stem_tag_docs(docs):\n",
    "    ls = LancasterStemmer()\n",
    "    results = docs.apply(lambda r: TaggedDocument(words=preprocessor_and_stem(r['text']), tags=[str(r['id'])]), axis=1)\n",
    "    return results.tolist()\n",
    "\n",
    "def preprocessor(text):\n",
    "    # uses gensim simple_preprocess and then removes stop words\n",
    "    simple = simple_preprocess(text)\n",
    "    result = [word for word in simple if not word in my_stop_words]\n",
    "    return result\n",
    "def preprocessor_and_stem(text):\n",
    "    # uses gensim simple_preprocess and then removes stop words\n",
    "    simple = simple_preprocess(text)\n",
    "    result = [ls.stem(word) for word in simple if not word in my_stop_words]\n",
    "#     print('stemmed')\n",
    "    return result"
   ]
  },
  {
   "cell_type": "code",
   "execution_count": 20,
   "metadata": {},
   "outputs": [],
   "source": [
    "cleaned_sub = cleaned_reviews_df[:100]"
   ]
  },
  {
   "cell_type": "code",
   "execution_count": 25,
   "metadata": {},
   "outputs": [],
   "source": [
    "# cleaned_text = cleaned_reviews_df[:50]\n",
    "ls = LancasterStemmer()\n",
    "tagged_docs = stem_tag_docs(cleaned_sub)\n",
    "# tagged_test[0]"
   ]
  },
  {
   "cell_type": "code",
   "execution_count": 26,
   "metadata": {},
   "outputs": [],
   "source": [
    "# process reviews, turn into list of TaggedDocument objects, with beer id as tag\n",
    "tagged_docs = tag_docs(cleaned_reviews_df)"
   ]
  },
  {
   "cell_type": "code",
   "execution_count": 28,
   "metadata": {},
   "outputs": [
    {
     "name": "stderr",
     "output_type": "stream",
     "text": [
      "//anaconda3/envs/sklearn-env/lib/python3.7/site-packages/gensim/models/doc2vec.py:574: UserWarning: The parameter `size` is deprecated, will be removed in 4.0.0, use `vector_size` instead.\n",
      "  warnings.warn(\"The parameter `size` is deprecated, will be removed in 4.0.0, use `vector_size` instead.\")\n"
     ]
    }
   ],
   "source": [
    "## Use format like this \n",
    "\n",
    "model = Doc2Vec(dm=0, dbow_words=1, min_count=4, negative=3,\n",
    "                hs=0, sample=1e-4, window=5, size=100, workers=8)\n",
    "\n",
    "model.build_vocab(tagged_docs, progress_per = 100)"
   ]
  },
  {
   "cell_type": "code",
   "execution_count": 29,
   "metadata": {},
   "outputs": [],
   "source": [
    "from gensim.models.callbacks import CallbackAny2Vec\n",
    "class EpochLogger(CallbackAny2Vec):\n",
    "    def __init__(self):\n",
    "        self.epoch = 0\n",
    "\n",
    "    def on_epoch_begin(self, model):\n",
    "        print(\"Epoch #{} start\".format(self.epoch))\n",
    "\n",
    "    def on_epoch_end(self, model):\n",
    "        print(\"Epoch #{} end\".format(self.epoch))\n",
    "        self.epoch += 1\n",
    "        \n",
    "# this is the above but trying it to return a dict\n",
    "def location_filter(ranked_beers, state, city, n):\n",
    "\n",
    "    located_brewery = {}\n",
    "    # state = 'CA'\n",
    "    # city = 'Los Angeles'\n",
    "    counter = 0\n",
    "\n",
    "    for beer in ranked_beers:\n",
    "        if counter < n:\n",
    "            dict_state = lookup_dict[beer[0]]['state']\n",
    "            dict_city = lookup_dict[beer[0]]['city']\n",
    "            brewery_id = lookup_dict[beer[0]]['brewery_id']\n",
    "            brewery_name = lookup_dict[beer[0]]['brewery_name']\n",
    "            beer_name = lookup_dict[beer[0]]['name']\n",
    "            if (dict_state == state) and (dict_city == city):\n",
    "        #             print(beer_breweries_lookup[beer[0]])\n",
    "#                 print(beer[0])\n",
    "                if brewery_id in located_brewery:\n",
    "                    continue\n",
    "                else:  \n",
    "                    located_brewery[brewery_id] = (brewery_name, beer[0], beer_name)\n",
    "                counter += 1\n",
    "    return located_brewery"
   ]
  },
  {
   "cell_type": "code",
   "execution_count": 30,
   "metadata": {},
   "outputs": [
    {
     "name": "stdout",
     "output_type": "stream",
     "text": [
      "Epoch #0 start\n",
      "Epoch #0 end\n"
     ]
    }
   ],
   "source": [
    "epoch_logger = EpochLogger()\n",
    "model.train(tagged_docs, total_examples=model.corpus_count, epochs=1, callbacks=[epoch_logger])"
   ]
  },
  {
   "cell_type": "code",
   "execution_count": 118,
   "metadata": {},
   "outputs": [
    {
     "data": {
      "text/plain": [
       "{36949: ('Holy Mountain Brewing Company', '188999', 'The Hart'),\n",
       " 28192: ('Urban Family Brewing Co.', '249057', 'Delicious Ambiguity'),\n",
       " 20680: ('Fremont Brewing Company', '85085', 'The Lamb'),\n",
       " 700: ('Elysian Brewing Company', '2027', 'Saison Elysee'),\n",
       " 29693: (\"Reuben's Brews\", '187302', 'Gose'),\n",
       " 17005: ('Two Beers Brewing Co.', '55833', 'Sodo Brown')}"
      ]
     },
     "execution_count": 118,
     "metadata": {},
     "output_type": "execute_result"
    }
   ],
   "source": [
    "vec = model['sour']\n",
    "d2v_test = model.docvecs.most_similar([vec], topn=5000)\n",
    "location_filter(d2v_test, 'WA', 'Seattle', 6)"
   ]
  },
  {
   "cell_type": "code",
   "execution_count": 125,
   "metadata": {},
   "outputs": [],
   "source": [
    "model.save('epoch1-vs100')"
   ]
  },
  {
   "cell_type": "markdown",
   "metadata": {},
   "source": [
    "### Infer vector"
   ]
  },
  {
   "cell_type": "code",
   "execution_count": 110,
   "metadata": {},
   "outputs": [],
   "source": [
    "# will be able to let someone add many words? this might be a WIP\n",
    "test = model.infer_vector('sour'.split())"
   ]
  },
  {
   "cell_type": "code",
   "execution_count": 111,
   "metadata": {},
   "outputs": [],
   "source": [
    "test_recs = model.docvecs.most_similar([test],topn=20000)"
   ]
  },
  {
   "cell_type": "code",
   "execution_count": 112,
   "metadata": {},
   "outputs": [
    {
     "data": {
      "text/plain": [
       "{700: ('Elysian Brewing Company', '39497', \"Dark O' The Moon\"),\n",
       " 365: ('Pike Brewing Company', '107667', 'Octopus Ink Black IPA'),\n",
       " 932: (\"Hale's Ales Brewery & Pub\",\n",
       "  '9484',\n",
       "  \"Pikop Andropov's Rushin' Imperial Stout\"),\n",
       " 19764: ('Schooner Exact Brewing Company', '64930', 'Profanity Hill Porter'),\n",
       " 20680: ('Fremont Brewing Company', '55271', 'Winter Ale'),\n",
       " 17005: ('Two Beers Brewing Co.', '113530', 'Fall Line (Alta Series)')}"
      ]
     },
     "execution_count": 112,
     "metadata": {},
     "output_type": "execute_result"
    }
   ],
   "source": [
    "location_filter(test_recs, 'WA', 'Seattle', 6)"
   ]
  },
  {
   "cell_type": "markdown",
   "metadata": {},
   "source": [
    "### Plotting"
   ]
  },
  {
   "cell_type": "code",
   "execution_count": 41,
   "metadata": {},
   "outputs": [],
   "source": [
    "from sklearn.manifold import TSNE\n",
    "import matplotlib.pyplot as plt"
   ]
  },
  {
   "cell_type": "code",
   "execution_count": 157,
   "metadata": {},
   "outputs": [],
   "source": [
    "def get_doc_tags_from_keyword(keyword, topn):\n",
    "    vec = model[keyword]\n",
    "    keywords_and_sim = model.docvecs.most_similar([vec], topn=topn)\n",
    "    doc_tags = []\n",
    "    for i in keywords_and_sim:\n",
    "        doc_tags.append(i[0])\n",
    "    return doc_tags\n",
    "\n",
    "def tsne_df(doc_tags):\n",
    "    tsne = TSNE(n_components=2)\n",
    "    vectors = model[doc_tags]\n",
    "    vec_tsne = tsne.fit_transform(vectors)\n",
    "    df = pd.DataFrame(vec_tsne, index=doc_tags, columns=['x', 'y'])\n",
    "    return df"
   ]
  },
  {
   "cell_type": "code",
   "execution_count": 158,
   "metadata": {},
   "outputs": [],
   "source": [
    "sour_tags = get_doc_tags_from_keyword('sour', 1000)  \n",
    "sour_df = tsne_df(sour_tags)"
   ]
  },
  {
   "cell_type": "code",
   "execution_count": 42,
   "metadata": {},
   "outputs": [],
   "source": [
    "doc_tags = list(model.docvecs.doctags.keys())\n",
    "X = model[doc_tags]"
   ]
  },
  {
   "cell_type": "code",
   "execution_count": null,
   "metadata": {},
   "outputs": [],
   "source": [
    "tsne = TSNE(n_components=2)\n",
    "X_tsne = tsne.fit_transform(X)"
   ]
  },
  {
   "cell_type": "code",
   "execution_count": 149,
   "metadata": {},
   "outputs": [],
   "source": [
    "df = pd.DataFrame(X_tsne, index=doc_tags, columns=['x', 'y'])"
   ]
  },
  {
   "cell_type": "code",
   "execution_count": 150,
   "metadata": {},
   "outputs": [
    {
     "data": {
      "text/plain": [
       "<matplotlib.collections.PathCollection at 0x1df7dcd30>"
      ]
     },
     "execution_count": 150,
     "metadata": {},
     "output_type": "execute_result"
    },
    {
     "data": {
      "image/png": "[encoded data removed]",
      "text/plain": [
       "<Figure size 432x288 with 1 Axes>"
      ]
     },
     "metadata": {
      "needs_background": "light"
     },
     "output_type": "display_data"
    }
   ],
   "source": [
    "plt.scatter(df['x'], df['y'])"
   ]
  },
  {
   "cell_type": "code",
   "execution_count": 58,
   "metadata": {},
   "outputs": [
    {
     "data": {
      "text/plain": [
       "array([], shape=(0, 100), dtype=float64)"
      ]
     },
     "execution_count": 58,
     "metadata": {},
     "output_type": "execute_result"
    }
   ],
   "source": [
    "model.docvecs.vectors"
   ]
  },
  {
   "cell_type": "code",
   "execution_count": 142,
   "metadata": {},
   "outputs": [],
   "source": [
    "sour_vecs = model[sour]"
   ]
  },
  {
   "cell_type": "code",
   "execution_count": 144,
   "metadata": {},
   "outputs": [],
   "source": [
    "sour_tsne = tsne.fit_transform(sour_vecs)"
   ]
  },
  {
   "cell_type": "code",
   "execution_count": 146,
   "metadata": {},
   "outputs": [],
   "source": [
    "df_sour = pd.DataFrame(sour_tsne, index=sour, columns=['x', 'y'])"
   ]
  },
  {
   "cell_type": "code",
   "execution_count": 160,
   "metadata": {},
   "outputs": [],
   "source": [
    "hop_tags = get_doc_tags_from_keyword('hop', 1000)  \n",
    "hop_df = tsne_df(hop_tags)"
   ]
  },
  {
   "cell_type": "code",
   "execution_count": 164,
   "metadata": {},
   "outputs": [],
   "source": [
    "dank_tags = get_doc_tags_from_keyword('dank', 1000)  \n",
    "dank_df = tsne_df(dank_tags)"
   ]
  },
  {
   "cell_type": "code",
   "execution_count": 163,
   "metadata": {},
   "outputs": [
    {
     "data": {
      "image/png": "[encoded data removed]",
      "text/plain": [
       "<Figure size 432x288 with 1 Axes>"
      ]
     },
     "metadata": {
      "needs_background": "light"
     },
     "output_type": "display_data"
    }
   ],
   "source": [
    "plt.scatter(df['x'], df['y'])\n",
    "plt.scatter(sour_df['x'], sour_df['y'], c='red')\n",
    "plt.scatter(hop_df['x'], hop_df['y'], c='green')\n",
    "plt.scatter(dank_df['x'], hop_df['y'], c=)\n",
    "plt.show()"
   ]
  },
  {
   "cell_type": "code",
   "execution_count": null,
   "metadata": {},
   "outputs": [],
   "source": []
  }
 ],
 "metadata": {
  "kernelspec": {
   "display_name": "Python (sklearn-env)",
   "language": "python",
   "name": "sklearn-env"
  },
  "language_info": {
   "codemirror_mode": {
    "name": "ipython",
    "version": 3
   },
   "file_extension": ".py",
   "mimetype": "text/x-python",
   "name": "python",
   "nbconvert_exporter": "python",
   "pygments_lexer": "ipython3",
   "version": "3.7.3"
  }
 },
 "nbformat": 4,
 "nbformat_minor": 2
}
