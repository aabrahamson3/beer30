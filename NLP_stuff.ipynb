{
  "nbformat": 4,
  "nbformat_minor": 0,
  "metadata": {
    "colab": {
      "name": "NLP_stuff.ipynb",
      "provenance": []
    },
    "kernelspec": {
      "name": "python3",
      "display_name": "Python 3"
    },
    "accelerator": "TPU"
  },
  "cells": [
    {
      "cell_type": "code",
      "metadata": {
        "id": "YLfK2QhwJDw-",
        "colab_type": "code",
        "outputId": "4d1b81a2-6e25-4965-dc92-7ce3a67402a8",
        "colab": {
          "base_uri": "https://localhost:8080/",
          "height": 122
        }
      },
      "source": [
        "from google.colab import drive\n",
        "drive.mount('/content/drive')"
      ],
      "execution_count": 1,
      "outputs": [
        {
          "output_type": "stream",
          "text": [
            "Go to this URL in a browser: https://accounts.google.com/o/oauth2/auth?client_id=947318989803-6bn6qk8qdgf4n4g3pfee6491hc0brc4i.apps.googleusercontent.com&redirect_uri=urn%3aietf%3awg%3aoauth%3a2.0%3aoob&response_type=code&scope=email%20https%3a%2f%2fwww.googleapis.com%2fauth%2fdocs.test%20https%3a%2f%2fwww.googleapis.com%2fauth%2fdrive%20https%3a%2f%2fwww.googleapis.com%2fauth%2fdrive.photos.readonly%20https%3a%2f%2fwww.googleapis.com%2fauth%2fpeopleapi.readonly\n",
            "\n",
            "Enter your authorization code:\n",
            "··········\n",
            "Mounted at /content/drive\n"
          ],
          "name": "stdout"
        }
      ]
    },
    {
      "cell_type": "code",
      "metadata": {
        "id": "gzkOYZafI2px",
        "colab_type": "code",
        "colab": {}
      },
      "source": [
        "import pandas as pd\n",
        "import numpy as np\n",
        "import seaborn as sns\n",
        "beers = pd.read_csv('/content/beers.csv')\n",
        "breweries = pd.read_csv('/content/breweries.csv')\n",
        "reviews = pd.read_csv('/content/drive/My Drive/reviews.csv')"
      ],
      "execution_count": 0,
      "outputs": []
    },
    {
      "cell_type": "code",
      "metadata": {
        "id": "shuYWYkfJvgk",
        "colab_type": "code",
        "colab": {}
      },
      "source": [
        "reviews['text'] = reviews['text'].replace(u'\\xa0\\xa0', '')\n",
        "# subset to only reviews that have a text review\n",
        "text_reviews = reviews.loc[reviews['text'] != '']\n",
        "# subset data to exclude NaN's as well (only losing 164k reviews from the last subset)\n",
        "text_no_nan = text_reviews.loc[text_reviews.smell.isna() == False]\n",
        "# rename column name beer_id to id for easy joining\n",
        "text_no_nan = text_no_nan.rename(columns={'beer_id':'id'})\n",
        "# subset out retired beers\n",
        "current_beers = beers.loc[beers['retired'] == 'f']\n",
        "# merge text_no_nan with beers that are not retired\n",
        "df = pd.merge(text_no_nan, current_beers, on='id')\n",
        "# create a table with average ratings for each beer. Index/ID is the beer id\n",
        "ratings = pd.DataFrame(df.groupby('id')['score'].mean())\n",
        "# add a column tallying the # of reviews for that beer\n",
        "ratings['no_of_ratings'] = df.groupby('id')['score'].count()\n",
        "# subset ratings with only beers that have 10+ ratings\n",
        "ratings = ratings.loc[ratings['no_of_ratings'] > 9]\n",
        "# formatting\n",
        "ratings = ratings.reset_index()\n",
        "ratings = ratings.rename(columns={'score':'avg_score'})\n",
        "# rejoin no of ratings onto df\n",
        "df = df.merge(ratings, how='inner', on='id')\n",
        "# make a dataframe of reviewers by usename, count the number of reviews they made\n",
        "reviewers = pd.DataFrame(df.groupby('username')['id'].count())\n",
        "# make a new feature, the average of all of their scores\n",
        "reviewers['avg_usr_score'] = df.groupby('username')['score'].mean()\n",
        "# subset reviewers to those with 5+ reviews. From 73k users to 25k.\n",
        "reviewers = reviewers.loc[reviewers['id'] > 4] ## MAYBE I CAN PLAY WITH THIS #\n",
        "# formatting \n",
        "reviewers = reviewers.rename(columns={'id':'tot_usr_rvw'})\n",
        "# there's ~1400 users outsides of 2 STDs of the mean score, will subset them out\n",
        "reviewers_sub = reviewers.loc[(reviewers['avg_usr_score'] >= 3.182) &\\\n",
        "                              (reviewers['avg_usr_score'] <= 4.665)]\n",
        "\n",
        "# subset of df with beers that have 10+ reviews, and with reviewers that have 5+ reviews\n",
        "# and an average rating of beers between 3.18 and 4.67\n",
        "df_with_mins = df.merge(reviewers_sub, how = 'inner', on = 'username')"
      ],
      "execution_count": 0,
      "outputs": []
    },
    {
      "cell_type": "markdown",
      "metadata": {
        "id": "DKB-aoHWJ5wF",
        "colab_type": "text"
      },
      "source": [
        "Content Based NLP Stuff:"
      ]
    },
    {
      "cell_type": "code",
      "metadata": {
        "id": "BLQBIoNLJ8Z6",
        "colab_type": "code",
        "colab": {}
      },
      "source": [
        "from sklearn.feature_extraction.text import CountVectorizer, TfidfVectorizer\n",
        "from sklearn.metrics.pairwise import cosine_similarity\n",
        "import re"
      ],
      "execution_count": 0,
      "outputs": []
    },
    {
      "cell_type": "code",
      "metadata": {
        "id": "HNsi5cDWKRdc",
        "colab_type": "code",
        "colab": {}
      },
      "source": [
        "# subsets reviews df, and then joins all text reviews for each individual beer together\n",
        "df_joined = df_with_mins.copy()\n",
        "df_joined['joined_text'] = df_joined.groupby('id')['text'].\\\n",
        "                               transform(lambda x: ''.join(x))"
      ],
      "execution_count": 0,
      "outputs": []
    },
    {
      "cell_type": "code",
      "metadata": {
        "id": "IAh8KmW2KVeL",
        "colab_type": "code",
        "colab": {}
      },
      "source": [
        "# removes duplicate beers, and subsets to just beer id, joined_text and rating info\n",
        "# to be cleaned and then joined to beers df\n",
        "df_joined_sub = df_joined[['id', 'joined_text', 'avg_score', 'no_of_ratings']].drop_duplicates(\\\n",
        "                                                                        subset='id')"
      ],
      "execution_count": 0,
      "outputs": []
    },
    {
      "cell_type": "code",
      "metadata": {
        "id": "JnIVdx1mKXPM",
        "colab_type": "code",
        "colab": {}
      },
      "source": [
        "# removes \\xa0 remove text\n",
        "df_joined_sub['joined_text'] = df_joined_sub['joined_text'].apply(lambda x: re.sub\\\n",
        "                                                                  (r'\\xa0', '', x))"
      ],
      "execution_count": 0,
      "outputs": []
    },
    {
      "cell_type": "code",
      "metadata": {
        "id": "7kQ3_3M5Kavs",
        "colab_type": "code",
        "colab": {}
      },
      "source": [
        "count_vect = CountVectorizer(stop_words='english')\n",
        "counts = count_vect.fit_transform(df_joined_sub.joined_text)\n",
        "cos_sim = cosine_similarity(counts, counts)"
      ],
      "execution_count": 0,
      "outputs": []
    },
    {
      "cell_type": "code",
      "metadata": {
        "id": "5wEc-zNiKiA2",
        "colab_type": "code",
        "colab": {}
      },
      "source": [
        "indices = pd.Series(df_joined_sub.index)"
      ],
      "execution_count": 0,
      "outputs": []
    }
  ]
}